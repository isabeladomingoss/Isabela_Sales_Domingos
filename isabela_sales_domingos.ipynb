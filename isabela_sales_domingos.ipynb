{
 "cells": [
  {
   "cell_type": "markdown",
   "metadata": {},
   "source": [
    "Questão 1:\n",
    "Na área de registro de pagamento de um grande banco, é importantíssimo que os dados sejam tratados apropriadamente. Sendo assim, é fundamental que os tipos de variáveis sejam definidos de acordo com a finalidade a que se destinam. Isto posto, considere o trecho de código abaixo, parte de um sistema de processamento de dados de pagamentos:\n",
    "\n",
    "v = input(\"Digite o valor da compra: \")\n",
    "Avaliando as assertivas que se seguem, assinale a alternativa correta.\n",
    "\n",
    "I – a variável v será do tipo str (string).\n",
    "\n",
    "II – sabemos que operações algébricas serão feitas com a variável v no decorrer do programa. Sendo assim, o tipo desta variável é irrelevante.\n",
    "\n",
    "III – a variável v será sempre numérica, dado que a instrução no input indica claramente que seja digitado um valor de compra (que é numérico)\n",
    "\n",
    "a) Apenas a assertiva I é correta # o input caso não seja designado outro tipo padrão sera string \n",
    "b) Apenas a assertiva II é correta\n",
    "c) Apenas a assertiva III é correta\n",
    "d) Todas as assertivas são corretas\n",
    "e) Todas as assertivas são incorretas"
   ]
  },
  {
   "cell_type": "markdown",
   "metadata": {},
   "source": [
    "Questão 2:\n",
    "Como parte do código de uma rotina de processamento de informações financeiras, precisamos guardar, em uma lista, informações sobre as taxas de manutenção cobradas em certos tipos de contas. No que diz respeito à inicialização de listas em Python, avalie as formas de inicialização abaixo, indicando a alternativa correta:\n",
    "\n",
    "I) lista_taxas = []\n",
    "II) lista_taxas = (0.08, 0.09)\n",
    "III) lista_taxas = list[0.08, 0.09]\n",
    "IV) lista_taxas = [0.08, 0.09]\n",
    "V) lista_taxas = list(“89”)\n",
    "\n",
    "a) Nenhuma das formas acima é uma maneira válida de inicializar uma lista em Python\n",
    "b) Apenas as alternativas I e II são válidas para inicializar uma lista em Python\n",
    "c) Apenas as alternativas II, III e IV são válidas para inicializar uma lista em Python\n",
    "d) Apenas as alternativas I, IV e V são válidas para inicializar uma lista em Python\n",
    "e) Todas as alternativas são opções viáveis de inicialização de listas em Python"
   ]
  }
 ],
 "metadata": {
  "language_info": {
   "name": "python"
  }
 },
 "nbformat": 4,
 "nbformat_minor": 2
}
